import pandas as pd
import numpy as np
import matplotlib.pyplot as plt
from sklearn.model_selection import train_test_split
from sklearn.preprocessing import LabelEncoder, StandardScaler
from sklearn.metrics import confusion_matrix, ConfusionMatrixDisplay
from tensorflow.keras.models import Sequential
from tensorflow.keras.layers import Dense, Dropout
from tensorflow.keras.utils import to_categorical
from tensorflow.keras.callbacks import ModelCheckpoint, EarlyStopping
import smtplib
from email.mime.text import MIMEText

# Function to simulate blocking suspicious traffic
def block_suspicious_traffic(pred_labels):
    # Let's assume '1' is the class for suspicious/attack traffic
    suspicious_indices = np.where(pred_labels == 1)[0]
    for idx in suspicious_indices:
        print(f"Blocking suspicious traffic from index {idx}")
        # Add your traffic blocking logic here (e.g., firewall rule, disconnect device)
        # Simulate with a print statement for now

# Function to send email notification to admin
def send_email_notification():
    try:
        msg = MIMEText("Suspicious activity detected and action has been taken.")
        msg["Subject"] = "IPS Alert: Suspicious Activity"
        msg["From"] = "your-email@example.com"
        msg["To"] = "admin-email@example.com"

        with smtplib.SMTP("smtp.example.com", 587) as server:
            server.starttls()
            server.login("your-email@example.com", "your-password")
            server.sendmail("your-email@example.com", "admin-email@example.com", msg.as_string())
        print("Admin notified via email.")
    except Exception as e:
        print(f"Failed to send email notification: {e}")

# Load dataset
dataset_url = "https://raw.githubusercontent.com/kdemertzis/EKPA/main/Data/pcap_data.csv"
df = pd.read_csv(dataset_url)

# Preprocess dataset
label_encoder = LabelEncoder()
df['target'] = label_encoder.fit_transform(df['target'])

# Split features and labels
X = df.drop(columns=['target'])
y = df['target']

# Normalize data
scaler = StandardScaler()
X = scaler.fit_transform(X)

# Split into training, validation, and test sets
X_train, X_test, y_train, y_test = train_test_split(X, y, test_size=0.2, stratify=y, random_state=42)
X_train, X_val, y_train, y_val = train_test_split(X_train, y_train, test_size=0.125, stratify=y_train, random_state=42)

# One-hot encode labels
y_train = to_categorical(y_train)
y_val = to_categorical(y_val)
y_test = to_categorical(y_test)

# Define the model
model = Sequential([
    Dense(64, activation='relu', input_shape=(X_train.shape[1],)),
    Dropout(0.3),
    Dense(32, activation='relu'),
    Dropout(0.3),
    Dense(y_train.shape[1], activation='softmax')
])

model.compile(optimizer='adam', loss='categorical_crossentropy', metrics=['accuracy'])

# Callbacks
early_stopping = EarlyStopping(monitor='val_loss', patience=10, mode='min')
model_checkpoint = ModelCheckpoint('best_model.h5', save_best_only=True, monitor='val_accuracy', mode='max')

# Train model
history = model.fit(
    X_train, y_train,
    validation_data=(X_val, y_val),
    epochs=50,
    batch_size=256,
    callbacks=[early_stopping, model_checkpoint]
)

# Evaluate on test data
model.load_weights('best_model.h5')
loss, accuracy = model.evaluate(X_test, y_test)
print(f"Test Accuracy: {accuracy:.4f}")

# Generate confusion matrix
predictions = model.predict(X_test)
pred_labels = np.argmax(predictions, axis=1)
y_test_labels = np.argmax(y_test, axis=1)

cm = confusion_matrix(y_test_labels, pred_labels)
ConfusionMatrixDisplay(cm, display_labels=label_encoder.classes_).plot()
plt.show()

# Perform preventive actions based on model predictions
block_suspicious_traffic(pred_labels)

# If a high risk of attack is detected, notify the administrator
if np.any(pred_labels == 1):  # Assuming '1' corresponds to attack/suspicious traffic
    send_email_notification()
